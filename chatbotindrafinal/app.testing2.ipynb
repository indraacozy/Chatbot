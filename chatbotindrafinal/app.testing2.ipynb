{
 "cells": [
  {
   "cell_type": "code",
   "execution_count": 2,
   "metadata": {},
   "outputs": [],
   "source": [
    "import warnings\n",
    "warnings.filterwarnings(\"ignore\")\n",
    "import nltk\n",
    "from nltk.stem import WordNetLemmatizer\n",
    "import json\n",
    "import pickle\n",
    "\n",
    "import numpy as np\n",
    "from tensorflow.keras.models import Sequential\n",
    "from tensorflow.keras.layers import Dense, Activation, Dropout\n",
    "from tensorflow.keras.optimizers import SGD\n",
    "import random\n",
    "from keras.models import load_model\n",
    "\n",
    "lemmatizer = WordNetLemmatizer()\n",
    "\n",
    "words = []\n",
    "classes = []\n",
    "documents = []\n",
    "ignore_word = ['?','!']\n",
    "data_file = open(\"models\\intents_final2.json\").read()\n",
    "intents = json.loads(data_file)"
   ]
  },
  {
   "cell_type": "code",
   "execution_count": 3,
   "metadata": {},
   "outputs": [],
   "source": [
    "for intent in intents['intents']:\n",
    "    for pattern in intent['patterns']:\n",
    "\n",
    "        w = nltk.word_tokenize(pattern)\n",
    "        words.extend(w)\n",
    "        documents.append((w, intent['tag']))\n",
    "\n",
    "        if intent['tag'] not in classes:\n",
    "            classes.append(intent['tag'])"
   ]
  },
  {
   "cell_type": "code",
   "execution_count": 4,
   "metadata": {},
   "outputs": [
    {
     "name": "stdout",
     "output_type": "stream",
     "text": [
      "147 documents\n",
      "26 classes ['1', '2', '3', '4', '5', '6', '7', '8', '9', 'curhat1', 'curhat10', 'curhat11', 'curhat12', 'curhat13', 'curhat14', 'curhat15', 'curhat2', 'curhat3', 'curhat4', 'curhat5', 'curhat6', 'curhat7', 'curhat8', 'goodbye', 'salam', 'terimakasih']\n",
      "361 unique lematized words [',', '...', '1', '1,7', '1.apa', '2', '2.apa', '3', '3.gejala', '4', '4.bagaimana', '5', '5.kalo', '6', '6.bahaya', '7', '7.apakah', '8', '8.curhat', '9', '9.jika', 'abis', 'ada', 'agar', 'air', 'aja', 'akan', 'akhir', 'akhir-akhir', 'aktivitas', 'aku', 'alami', 'aman', 'anak', 'anda', 'anjlok', 'apa', 'apakah', 'apapun', 'asa', 'atau', 'awalnya', 'badan', 'bagaimana', 'bahaya', 'bahkan', 'baik', 'banget', 'barang', 'baru', 'bawa', 'bawaanya', 'beberapa', 'bebrapa', 'begadang', 'benci', 'berada', 'beranggapan', 'berbeda', 'berguna', 'berkepanjangan', 'berlebihan', 'berpisah', 'bertanya', 'bertemu', 'berteriak', 'biaya', 'bilang', 'bisa', 'broken', 'bulan', 'bunuh', 'bye', 'cara', 'cemas', 'cenderung', 'cerita', 'cinta', 'crisis', 'cuma', 'curhat', 'dada', 'dadah', 'dalam', 'dan', 'dapat', 'dari', 'dengan', 'depresi', 'di', 'dibantu', 'didiagnosa', 'dijawab', 'dikonsultasikan', 'diluar', 'diputusin', 'diri', 'disana', 'disembuhkan', 'ditambah', 'ditangan', 'diwarnai', 'dokter', 'dong', 'dulu', 'dunia', 'efektif', 'emosi', 'emosional', 'fase', 'gabisa', 'gagal', 'gak', 'gejala', 'gelisah', 'gimana', 'gitu', 'goodbye', 'haii', 'hal', 'hallo', 'hanya', 'hari', 'hari-hari', 'harus', 'hati', 'hello', 'hey', 'heyho', 'hi', 'hidup', 'hingga', 'hobi', 'home', 'ingin', 'ini', 'itu', 'jadi', 'jawabannya', 'jika', 'juga', 'kabar', 'kadang', 'kali', 'kalo', 'kamar', 'karuan', 'kasar', 'kasih', 'kata-kata', 'ke', 'kecemasan', 'kecewa', 'kecil', 'kedua', 'kehilangan', 'keinginan', 'kejiwaan', 'keluar', 'keluarga', 'keluhan', 'kemarin', 'kenapa', 'kepala', 'kerjaan', 'ketempat', 'ketika', 'khawatir', 'kini', 'kira', 'kira-kira', 'kok', 'kondisi', 'konseling', 'konsumsi', 'kuliah', 'kumat', 'kurang', 'lagi', 'lainnya', 'lakukan', 'lalu', 'lama', 'langsung', 'lebih', 'life', 'lingkungan', 'mahal', 'makasih', 'makin', 'malam', 'malu', 'marah', 'marah-marah', 'masa-masa', 'masalah', 'masih', 'masuk', 'mata', 'maupun', 'melakukan', 'membantu', 'membuat', 'memikirkan', 'memukul', 'menampar', 'menangis', 'mencoba', 'mendapat', 'menerus', 'mengakhiri', 'mengalami', 'mengarah', 'mengatasi', 'mengatasinya', 'mengeluarkan', 'mengenai', 'mengenal', 'menghadapi', 'menghubungi', 'mengurangi', 'mengurung', 'mental', 'menyakit', 'menyakiti', 'menyendiri', 'merasa', 'merasakan', 'merupakan', 'meskipun', 'minat', 'minum', 'mohon', 'mood', 'moshi', 'mudah', 'mulai', 'mulu', 'muncul', 'murung', 'nangis', 'nanti', 'ngatasinnya', 'ngrusakin', 'nuhun', 'obat', 'obatnya', 'orang', 'pa', 'pacar', 'pada', 'pagi', 'pamit', 'parah', 'penanganan', 'pendiam', 'pendidikan', 'penenang', 'pengen', 'penyebab', 'penyebabnya', 'perasaan', 'percintaan', 'pergi', 'perhatian', 'periksa', 'periksakan', 'perilaku', 'perlu', 'pernah', 'pertengkaran', 'perubahan', 'pikiran', 'pipi', 'positif', 'psikolog', 'puas', 'pun', 'punya', 'putus', 'quater', 'rasa', 'rendah', 'respon', 'ringan', 'risau', 'rumah', 'saat', 'saja', 'sama', 'sampai', 'sampe', 'satgas', 'satu', 'saya', 'sebenarnya', 'secara', 'sedang', 'sedih', 'see', 'sejak', 'sekali', 'sekarang', 'selamat', 'semakin', 'semangat', 'semenjak', 'semester', 'sempet', 'senang', 'sendiri', 'sepanjang', 'seperti', 'sepertinya', 'sering', 'sesak', 'setiap', 'siang', 'siapapun', 'soal', 'soalnya', 'solusi', 'sore', 'stabil', 'stres', 'sudah', 'suka', 'sukai', 'sulit', 'suwun', 'tahu', 'tahun', 'takut', 'tanda', 'tanpa', 'tapi', 'tbtb', 'tenang', 'terima', 'terimakasih', 'terkena', 'tersinggung', 'terus', 'thank', 'thanks', 'tiba-tiba', 'tidak', 'tidur', 'tinggal', 'tolong', 'tua', 'udah', 'untuk', 'up', 'usm', 'wassap', 'whats', 'ya', 'yang', 'yg', 'you']\n"
     ]
    }
   ],
   "source": [
    "words = [lemmatizer.lemmatize(w.lower()) for w in words if w not in ignore_word]\n",
    "words = sorted(list(set(words)))\n",
    "\n",
    "classes = sorted(list(set(classes)))\n",
    "\n",
    "print(len(documents), \"documents\")\n",
    "print(len(classes), \"classes\", classes)\n",
    "print(len(words), \"unique lematized words\", words)\n",
    "\n",
    "pickle.dump(words,open('text_final3.pkl','wb'))\n",
    "pickle.dump(classes,open('labels_final3.pkl','wb'))"
   ]
  },
  {
   "cell_type": "code",
   "execution_count": 5,
   "metadata": {},
   "outputs": [
    {
     "name": "stdout",
     "output_type": "stream",
     "text": [
      "Training data complete!\n"
     ]
    }
   ],
   "source": [
    "training = []\n",
    "\n",
    "output_empty = [0] * len(classes)\n",
    "\n",
    "for doc in documents:\n",
    "    bag = []\n",
    "    pattern_word = doc[0]\n",
    "\n",
    "    pattern_word = [lemmatizer.lemmatize(word.lower()) for word in pattern_word]\n",
    "\n",
    "    for w in words:\n",
    "        bag.append(1) if w in pattern_word else bag.append(0)\n",
    "    \n",
    "    output_row = list(output_empty)\n",
    "    output_row[classes.index(doc[1])] = 1\n",
    "    training.append([bag, output_row])\n",
    "\n",
    "random.shuffle(training)\n",
    "training = np.array(training)\n",
    "\n",
    "train_x = list(training[:,0])\n",
    "train_y = list(training[:,1])\n",
    "\n",
    "print('Training data complete!')"
   ]
  },
  {
   "cell_type": "code",
   "execution_count": 6,
   "metadata": {},
   "outputs": [
    {
     "name": "stdout",
     "output_type": "stream",
     "text": [
      "Epoch 1/100\n",
      "30/30 [==============================] - 1s 2ms/step - loss: 3.2474 - accuracy: 0.0612\n",
      "Epoch 2/100\n",
      "30/30 [==============================] - 0s 3ms/step - loss: 3.1750 - accuracy: 0.1156\n",
      "Epoch 3/100\n",
      "30/30 [==============================] - 0s 2ms/step - loss: 3.0955 - accuracy: 0.1224\n",
      "Epoch 4/100\n",
      "30/30 [==============================] - 0s 2ms/step - loss: 3.0072 - accuracy: 0.1905\n",
      "Epoch 5/100\n",
      "30/30 [==============================] - 0s 5ms/step - loss: 2.8959 - accuracy: 0.1837\n",
      "Epoch 6/100\n",
      "30/30 [==============================] - 0s 2ms/step - loss: 2.7126 - accuracy: 0.2517\n",
      "Epoch 7/100\n",
      "30/30 [==============================] - 0s 2ms/step - loss: 2.4848 - accuracy: 0.3061\n",
      "Epoch 8/100\n",
      "30/30 [==============================] - 0s 2ms/step - loss: 2.2307 - accuracy: 0.3605\n",
      "Epoch 9/100\n",
      "30/30 [==============================] - 0s 2ms/step - loss: 1.8518 - accuracy: 0.5034\n",
      "Epoch 10/100\n",
      "30/30 [==============================] - 0s 3ms/step - loss: 1.5093 - accuracy: 0.5782\n",
      "Epoch 11/100\n",
      "30/30 [==============================] - 0s 2ms/step - loss: 1.1484 - accuracy: 0.6599\n",
      "Epoch 12/100\n",
      "30/30 [==============================] - 0s 2ms/step - loss: 0.8949 - accuracy: 0.8163\n",
      "Epoch 13/100\n",
      "30/30 [==============================] - 0s 2ms/step - loss: 0.6389 - accuracy: 0.8639\n",
      "Epoch 14/100\n",
      "30/30 [==============================] - 0s 2ms/step - loss: 0.4299 - accuracy: 0.9048\n",
      "Epoch 15/100\n",
      "30/30 [==============================] - 0s 2ms/step - loss: 0.3187 - accuracy: 0.9320\n",
      "Epoch 16/100\n",
      "30/30 [==============================] - 0s 2ms/step - loss: 0.2344 - accuracy: 0.9524\n",
      "Epoch 17/100\n",
      "30/30 [==============================] - 0s 2ms/step - loss: 0.1785 - accuracy: 0.9728\n",
      "Epoch 18/100\n",
      "30/30 [==============================] - 0s 2ms/step - loss: 0.1037 - accuracy: 0.9932\n",
      "Epoch 19/100\n",
      "30/30 [==============================] - 0s 2ms/step - loss: 0.0704 - accuracy: 1.0000\n",
      "Epoch 20/100\n",
      "30/30 [==============================] - 0s 2ms/step - loss: 0.0540 - accuracy: 1.0000\n",
      "Epoch 21/100\n",
      "30/30 [==============================] - 0s 2ms/step - loss: 0.0425 - accuracy: 1.0000\n",
      "Epoch 22/100\n",
      "30/30 [==============================] - 0s 3ms/step - loss: 0.0376 - accuracy: 1.0000\n",
      "Epoch 23/100\n",
      "30/30 [==============================] - 0s 2ms/step - loss: 0.0288 - accuracy: 1.0000\n",
      "Epoch 24/100\n",
      "30/30 [==============================] - 0s 2ms/step - loss: 0.0220 - accuracy: 1.0000\n",
      "Epoch 25/100\n",
      "30/30 [==============================] - 0s 2ms/step - loss: 0.0193 - accuracy: 1.0000\n",
      "Epoch 26/100\n",
      "30/30 [==============================] - 0s 2ms/step - loss: 0.0169 - accuracy: 1.0000\n",
      "Epoch 27/100\n",
      "30/30 [==============================] - 0s 3ms/step - loss: 0.0142 - accuracy: 1.0000\n",
      "Epoch 28/100\n",
      "30/30 [==============================] - 0s 2ms/step - loss: 0.0126 - accuracy: 1.0000\n",
      "Epoch 29/100\n",
      "30/30 [==============================] - 0s 2ms/step - loss: 0.0114 - accuracy: 1.0000\n",
      "Epoch 30/100\n",
      "30/30 [==============================] - 0s 2ms/step - loss: 0.0105 - accuracy: 1.0000\n",
      "Epoch 31/100\n",
      "30/30 [==============================] - 0s 2ms/step - loss: 0.0095 - accuracy: 1.0000\n",
      "Epoch 32/100\n",
      "30/30 [==============================] - 0s 2ms/step - loss: 0.0089 - accuracy: 1.0000\n",
      "Epoch 33/100\n",
      "30/30 [==============================] - 0s 3ms/step - loss: 0.0081 - accuracy: 1.0000\n",
      "Epoch 34/100\n",
      "30/30 [==============================] - 0s 3ms/step - loss: 0.0077 - accuracy: 1.0000\n",
      "Epoch 35/100\n",
      "30/30 [==============================] - 0s 3ms/step - loss: 0.0072 - accuracy: 1.0000\n",
      "Epoch 36/100\n",
      "30/30 [==============================] - 0s 3ms/step - loss: 0.0067 - accuracy: 1.0000\n",
      "Epoch 37/100\n",
      "30/30 [==============================] - 0s 3ms/step - loss: 0.0064 - accuracy: 1.0000\n",
      "Epoch 38/100\n",
      "30/30 [==============================] - 0s 2ms/step - loss: 0.0060 - accuracy: 1.0000\n",
      "Epoch 39/100\n",
      "30/30 [==============================] - 0s 2ms/step - loss: 0.0056 - accuracy: 1.0000\n",
      "Epoch 40/100\n",
      "30/30 [==============================] - 0s 2ms/step - loss: 0.0053 - accuracy: 1.0000\n",
      "Epoch 41/100\n",
      "30/30 [==============================] - 0s 2ms/step - loss: 0.0050 - accuracy: 1.0000\n",
      "Epoch 42/100\n",
      "30/30 [==============================] - 0s 2ms/step - loss: 0.0048 - accuracy: 1.0000\n",
      "Epoch 43/100\n",
      "30/30 [==============================] - 0s 3ms/step - loss: 0.0046 - accuracy: 1.0000\n",
      "Epoch 44/100\n",
      "30/30 [==============================] - 0s 2ms/step - loss: 0.0043 - accuracy: 1.0000\n",
      "Epoch 45/100\n",
      "30/30 [==============================] - 0s 3ms/step - loss: 0.0042 - accuracy: 1.0000\n",
      "Epoch 46/100\n",
      "30/30 [==============================] - 0s 3ms/step - loss: 0.0040 - accuracy: 1.0000\n",
      "Epoch 47/100\n",
      "30/30 [==============================] - 0s 2ms/step - loss: 0.0039 - accuracy: 1.0000\n",
      "Epoch 48/100\n",
      "30/30 [==============================] - 0s 2ms/step - loss: 0.0037 - accuracy: 1.0000\n",
      "Epoch 49/100\n",
      "30/30 [==============================] - 0s 4ms/step - loss: 0.0035 - accuracy: 1.0000\n",
      "Epoch 50/100\n",
      "30/30 [==============================] - 0s 5ms/step - loss: 0.0034 - accuracy: 1.0000\n",
      "Epoch 51/100\n",
      "30/30 [==============================] - 0s 5ms/step - loss: 0.0033 - accuracy: 1.0000\n",
      "Epoch 52/100\n",
      "30/30 [==============================] - 0s 2ms/step - loss: 0.0032 - accuracy: 1.0000\n",
      "Epoch 53/100\n",
      "30/30 [==============================] - 0s 3ms/step - loss: 0.0031 - accuracy: 1.0000\n",
      "Epoch 54/100\n",
      "30/30 [==============================] - 0s 2ms/step - loss: 0.0030 - accuracy: 1.0000\n",
      "Epoch 55/100\n",
      "30/30 [==============================] - 0s 2ms/step - loss: 0.0029 - accuracy: 1.0000\n",
      "Epoch 56/100\n",
      "30/30 [==============================] - 0s 2ms/step - loss: 0.0028 - accuracy: 1.0000\n",
      "Epoch 57/100\n",
      "30/30 [==============================] - 0s 2ms/step - loss: 0.0027 - accuracy: 1.0000\n",
      "Epoch 58/100\n",
      "30/30 [==============================] - 0s 3ms/step - loss: 0.0027 - accuracy: 1.0000\n",
      "Epoch 59/100\n",
      "30/30 [==============================] - 0s 2ms/step - loss: 0.0026 - accuracy: 1.0000\n",
      "Epoch 60/100\n",
      "30/30 [==============================] - 0s 3ms/step - loss: 0.0025 - accuracy: 1.0000\n",
      "Epoch 61/100\n",
      "30/30 [==============================] - 0s 5ms/step - loss: 0.0024 - accuracy: 1.0000\n",
      "Epoch 62/100\n",
      "30/30 [==============================] - 0s 2ms/step - loss: 0.0024 - accuracy: 1.0000\n",
      "Epoch 63/100\n",
      "30/30 [==============================] - 0s 2ms/step - loss: 0.0023 - accuracy: 1.0000\n",
      "Epoch 64/100\n",
      "30/30 [==============================] - 0s 2ms/step - loss: 0.0023 - accuracy: 1.0000\n",
      "Epoch 65/100\n",
      "30/30 [==============================] - 0s 2ms/step - loss: 0.0022 - accuracy: 1.0000\n",
      "Epoch 66/100\n",
      "30/30 [==============================] - 0s 2ms/step - loss: 0.0022 - accuracy: 1.0000\n",
      "Epoch 67/100\n",
      "30/30 [==============================] - 0s 2ms/step - loss: 0.0021 - accuracy: 1.0000\n",
      "Epoch 68/100\n",
      "30/30 [==============================] - 0s 2ms/step - loss: 0.0021 - accuracy: 1.0000\n",
      "Epoch 69/100\n",
      "30/30 [==============================] - 0s 2ms/step - loss: 0.0020 - accuracy: 1.0000\n",
      "Epoch 70/100\n",
      "30/30 [==============================] - 0s 3ms/step - loss: 0.0020 - accuracy: 1.0000\n",
      "Epoch 71/100\n",
      "30/30 [==============================] - 0s 3ms/step - loss: 0.0019 - accuracy: 1.0000\n",
      "Epoch 72/100\n",
      "30/30 [==============================] - 0s 3ms/step - loss: 0.0019 - accuracy: 1.0000\n",
      "Epoch 73/100\n",
      "30/30 [==============================] - 0s 2ms/step - loss: 0.0018 - accuracy: 1.0000\n",
      "Epoch 74/100\n",
      "30/30 [==============================] - 0s 3ms/step - loss: 0.0018 - accuracy: 1.0000\n",
      "Epoch 75/100\n",
      "30/30 [==============================] - 0s 2ms/step - loss: 0.0018 - accuracy: 1.0000\n",
      "Epoch 76/100\n",
      "30/30 [==============================] - 0s 3ms/step - loss: 0.0017 - accuracy: 1.0000\n",
      "Epoch 77/100\n",
      "30/30 [==============================] - 0s 3ms/step - loss: 0.0017 - accuracy: 1.0000\n",
      "Epoch 78/100\n",
      "30/30 [==============================] - 0s 2ms/step - loss: 0.0017 - accuracy: 1.0000\n",
      "Epoch 79/100\n",
      "30/30 [==============================] - 0s 3ms/step - loss: 0.0016 - accuracy: 1.0000\n",
      "Epoch 80/100\n",
      "30/30 [==============================] - 0s 3ms/step - loss: 0.0016 - accuracy: 1.0000\n",
      "Epoch 81/100\n",
      "30/30 [==============================] - 0s 4ms/step - loss: 0.0016 - accuracy: 1.0000\n",
      "Epoch 82/100\n",
      "30/30 [==============================] - 0s 6ms/step - loss: 0.0015 - accuracy: 1.0000\n",
      "Epoch 83/100\n",
      "30/30 [==============================] - 0s 2ms/step - loss: 0.0015 - accuracy: 1.0000\n",
      "Epoch 84/100\n",
      "30/30 [==============================] - 0s 2ms/step - loss: 0.0015 - accuracy: 1.0000\n",
      "Epoch 85/100\n",
      "30/30 [==============================] - 0s 2ms/step - loss: 0.0015 - accuracy: 1.0000\n",
      "Epoch 86/100\n",
      "30/30 [==============================] - 0s 3ms/step - loss: 0.0014 - accuracy: 1.0000\n",
      "Epoch 87/100\n",
      "30/30 [==============================] - 0s 2ms/step - loss: 0.0014 - accuracy: 1.0000\n",
      "Epoch 88/100\n",
      "30/30 [==============================] - 0s 2ms/step - loss: 0.0014 - accuracy: 1.0000\n",
      "Epoch 89/100\n",
      "30/30 [==============================] - 0s 3ms/step - loss: 0.0014 - accuracy: 1.0000\n",
      "Epoch 90/100\n",
      "30/30 [==============================] - 0s 2ms/step - loss: 0.0013 - accuracy: 1.0000\n",
      "Epoch 91/100\n",
      "30/30 [==============================] - 0s 2ms/step - loss: 0.0013 - accuracy: 1.0000\n",
      "Epoch 92/100\n",
      "30/30 [==============================] - 0s 2ms/step - loss: 0.0013 - accuracy: 1.0000\n",
      "Epoch 93/100\n",
      "30/30 [==============================] - 0s 2ms/step - loss: 0.0013 - accuracy: 1.0000\n",
      "Epoch 94/100\n",
      "30/30 [==============================] - 0s 2ms/step - loss: 0.0013 - accuracy: 1.0000\n",
      "Epoch 95/100\n",
      "30/30 [==============================] - 0s 2ms/step - loss: 0.0012 - accuracy: 1.0000\n",
      "Epoch 96/100\n",
      "30/30 [==============================] - 0s 2ms/step - loss: 0.0012 - accuracy: 1.0000\n",
      "Epoch 97/100\n",
      "30/30 [==============================] - 0s 2ms/step - loss: 0.0012 - accuracy: 1.0000\n",
      "Epoch 98/100\n",
      "30/30 [==============================] - 0s 2ms/step - loss: 0.0012 - accuracy: 1.0000\n",
      "Epoch 99/100\n",
      "30/30 [==============================] - 0s 3ms/step - loss: 0.0012 - accuracy: 1.0000\n",
      "Epoch 100/100\n",
      "30/30 [==============================] - 0s 2ms/step - loss: 0.0012 - accuracy: 1.0000\n"
     ]
    }
   ],
   "source": [
    "model = Sequential()\n",
    "model.add(Dense(147, input_shape=(len(train_x[0]),), activation='relu'))\n",
    "model.add(Dense(32, activation='relu'))\n",
    "model.add(Dense(64, activation='relu'))\n",
    "model.add(Dense(len(train_y[0]), activation='softmax'))\n",
    "\n",
    "sgd = SGD(learning_rate=0.01, decay=1e-6, momentum=0.9, nesterov=True)\n",
    "model.compile(loss='categorical_crossentropy', optimizer=sgd, metrics=['accuracy'])\n",
    "\n",
    "hist = model.fit(np.array(train_x), np.array(train_y), epochs=100, batch_size=5, verbose=1)\n"
   ]
  },
  {
   "cell_type": "code",
   "execution_count": 7,
   "metadata": {},
   "outputs": [
    {
     "name": "stdout",
     "output_type": "stream",
     "text": [
      "\n",
      "\n",
      "**************************************************\n",
      "\n",
      " Model Created Complete!\n"
     ]
    }
   ],
   "source": [
    "model.save('chatbot_model_final3.h5', hist)\n",
    "print(\"\\n\")\n",
    "print(\"*\" * 50)\n",
    "print(\"\\n Model Created Complete!\")"
   ]
  },
  {
   "cell_type": "code",
   "execution_count": 8,
   "metadata": {},
   "outputs": [
    {
     "name": "stdout",
     "output_type": "stream",
     "text": [
      "Model: \"sequential\"\n",
      "_________________________________________________________________\n",
      " Layer (type)                Output Shape              Param #   \n",
      "=================================================================\n",
      " dense (Dense)               (None, 147)               53214     \n",
      "                                                                 \n",
      " dense_1 (Dense)             (None, 32)                4736      \n",
      "                                                                 \n",
      " dense_2 (Dense)             (None, 64)                2112      \n",
      "                                                                 \n",
      " dense_3 (Dense)             (None, 26)                1690      \n",
      "                                                                 \n",
      "=================================================================\n",
      "Total params: 61,752\n",
      "Trainable params: 61,752\n",
      "Non-trainable params: 0\n",
      "_________________________________________________________________\n"
     ]
    }
   ],
   "source": [
    "model.summary()"
   ]
  },
  {
   "cell_type": "code",
   "execution_count": 9,
   "metadata": {},
   "outputs": [
    {
     "data": {
      "image/png": "[encoded data removed]",
      "text/plain": [
       "<Figure size 640x480 with 1 Axes>"
      ]
     },
     "metadata": {},
     "output_type": "display_data"
    }
   ],
   "source": [
    "from matplotlib import pyplot\n",
    "\n",
    "# plot learning curves\n",
    "pyplot.title('Learning Curves')\n",
    "pyplot.xlabel('Epoch')\n",
    "pyplot.ylabel('Loss')\n",
    "pyplot.plot(hist.history['loss'], label='train')\n",
    "pyplot.legend()\n",
    "pyplot.show()"
   ]
  },
  {
   "cell_type": "code",
   "execution_count": 10,
   "metadata": {},
   "outputs": [
    {
     "data": {
      "image/png": "[encoded data removed]",
      "text/plain": [
       "<Figure size 640x480 with 1 Axes>"
      ]
     },
     "metadata": {},
     "output_type": "display_data"
    }
   ],
   "source": [
    "from matplotlib import pyplot\n",
    "\n",
    "# plot learning curves\n",
    "pyplot.title('Learning Curves')\n",
    "pyplot.xlabel('Epoch')\n",
    "pyplot.ylabel('Loss')\n",
    "pyplot.plot(hist.history['accuracy'], label='train')\n",
    "pyplot.legend()\n",
    "pyplot.show()"
   ]
  }
 ],
 "metadata": {
  "kernelspec": {
   "display_name": "Python 3.10.8 ('chatbot2')",
   "language": "python",
   "name": "python3"
  },
  "language_info": {
   "codemirror_mode": {
    "name": "ipython",
    "version": 3
   },
   "file_extension": ".py",
   "mimetype": "text/x-python",
   "name": "python",
   "nbconvert_exporter": "python",
   "pygments_lexer": "ipython3",
   "version": "3.10.8"
  },
  "orig_nbformat": 4,
  "vscode": {
   "interpreter": {
    "hash": "7e83169435b262878ffe2f5cd91fa634046216dfd4774403e41333c99fd1f1cf"
   }
  }
 },
 "nbformat": 4,
 "nbformat_minor": 2
}
